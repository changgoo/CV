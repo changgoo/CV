{
 "cells": [
  {
   "cell_type": "code",
   "execution_count": 1,
   "id": "607a58de",
   "metadata": {},
   "outputs": [],
   "source": [
    "with open('CV.tex','r') as fp:\n",
    "    lines=fp.readlines()"
   ]
  },
  {
   "cell_type": "code",
   "execution_count": 2,
   "id": "64c9931a",
   "metadata": {},
   "outputs": [],
   "source": [
    "import re,os"
   ]
  },
  {
   "cell_type": "code",
   "execution_count": 3,
   "id": "f3be7776",
   "metadata": {},
   "outputs": [],
   "source": [
    "CV_items=dict()\n",
    "for i,l in enumerate(lines):\n",
    "    if l.startswith('\\itemtitle'):\n",
    "        item = re.split('{|}',l)[1]\n",
    "        istr = i\n",
    "        CV_items[item]=dict(istr=istr)\n",
    "    if l.startswith('\\end{document}'):\n",
    "        iend = istr\n",
    "        CV_items[item]['iend']=i\n",
    "\n",
    "itemlist=list(CV_items.keys())\n",
    "\n",
    "for item1, item2 in zip(itemlist[:-1],itemlist[1:]):\n",
    "    CV_items[item1].update(dict(iend=CV_items[item2]['istr']))"
   ]
  },
  {
   "cell_type": "code",
   "execution_count": 4,
   "id": "90cda5d9",
   "metadata": {},
   "outputs": [],
   "source": [
    "for item in itemlist:\n",
    "    \n",
    "    c=CV_items[item]\n",
    "    content=[]\n",
    "    element=[]\n",
    "    for l in lines[c['istr']:c['iend']]:\n",
    "        if ('itemtitle' in l) | (l == '\\n') | l.startswith('%'): continue\n",
    "        if ('element' in l) & (len(element)>0): \n",
    "            content.append(''.join(element).replace('\\n',''))\n",
    "            element=[]\n",
    "        element.append(l)\n",
    "    content.append(''.join(element).replace('\\n',''))    \n",
    "    \n",
    "    c.update(dict(content=content))"
   ]
  },
  {
   "cell_type": "code",
   "execution_count": 5,
   "id": "6bad4712",
   "metadata": {},
   "outputs": [],
   "source": [
    "l=c['content'][1]\n",
    "def get_content_split(l,level=1):\n",
    "    lbrackets=dict()\n",
    "    rbrackets=dict()\n",
    "    lev=0\n",
    "    for i,w in enumerate(l):\n",
    "        if w == '{':\n",
    "            left = i\n",
    "            lev += 1\n",
    "            if lev in lbrackets:\n",
    "                lbrackets[lev].append(left)\n",
    "            else:\n",
    "                lbrackets[lev] = [left]\n",
    "        if w == '}':\n",
    "            right = i\n",
    "            if lev in rbrackets:\n",
    "                rbrackets[lev].append(right)\n",
    "            else:\n",
    "                rbrackets[lev] = [right]\n",
    "            lev -= 1\n",
    "    sp = [l[i+1:j].strip() for i,j in zip(lbrackets[level],rbrackets[level])]\n",
    "    return sp"
   ]
  },
  {
   "cell_type": "code",
   "execution_count": 6,
   "id": "5f6e6c44",
   "metadata": {},
   "outputs": [],
   "source": [
    "import json"
   ]
  },
  {
   "cell_type": "code",
   "execution_count": 7,
   "id": "12bcef48",
   "metadata": {},
   "outputs": [
    {
     "name": "stdout",
     "output_type": "stream",
     "text": [
      "Education\n",
      "Current Position\n",
      "Employment\n",
      "Grants\n",
      "Research Advising\n",
      "Teaching\n",
      "Observing Proposals\n",
      "Computing Time Allocations\n",
      "Scientific Collaboration Teams\n",
      "Professional Service\n"
     ]
    }
   ],
   "source": [
    "# Education/Current Position/Employment\n",
    "for item in itemlist[:10]:\n",
    "    print(item)\n",
    "    c = CV_items[item]\n",
    "    items = []\n",
    "    for l in c['content']:\n",
    "        sp = get_content_split(l,level=1)\n",
    "#         print(sp)\n",
    "        years = sp[0].replace('\\\\\\\\','').split('--')\n",
    "        y1 = years[0].strip()\n",
    "        try:\n",
    "            y2 = years[1].strip()\n",
    "            if (len(y2) == 0): y2='present'\n",
    "        except IndexError:\n",
    "            y2 = 'None'\n",
    "\n",
    "        title = sp[1].split(',')[0]\n",
    "        other = sp[-1]\n",
    "        items.append(dict(titie=title,y1=y1,y2=y2,other=other))\n",
    "    json_name = item.lower().replace('/',' and ').replace(' ','_').replace('-','')+'.json'\n",
    "    with open(os.path.join('../data',json_name),'w') as fp:\n",
    "        json.dump(items,fp,indent=4, separators=(\",\", \": \"))"
   ]
  },
  {
   "cell_type": "code",
   "execution_count": 9,
   "id": "ea5aee0f",
   "metadata": {},
   "outputs": [
    {
     "name": "stdout",
     "output_type": "stream",
     "text": [
      "invited_review_talks.json\n",
      "invited_colloquia.json\n",
      "conference_workshop_seminar_talks.json\n"
     ]
    }
   ],
   "source": [
    "for item in itemlist[-3:]:\n",
    "    c = CV_items[item]\n",
    "    items = []\n",
    "    for l in c['content']:\n",
    "        sp = get_content_split(l,level=1)\n",
    "    #         print(sp)\n",
    "        years = sp[0].replace('\\\\\\\\','').split('--')\n",
    "        y1 = years[0].strip()\n",
    "        try:\n",
    "            y2 = years[1].strip()\n",
    "            if (len(y2) == 0): y2='present'\n",
    "        except IndexError:\n",
    "            y2 = 'None'\n",
    "\n",
    "        talk = sp[1].split(',')[0]\n",
    "        other = sp[-1].split(',')\n",
    "        title, = get_content_split(','.join(other[:-3]))\n",
    "        conf = other[-3].strip()\n",
    "        if 'href' in conf:\n",
    "            conf = get_content_split(conf)\n",
    "            conf_url = conf[0].strip()\n",
    "            conf = conf[1].strip()\n",
    "        venue = ','.join(other[-2:]).strip()\n",
    "\n",
    "        items.append(dict(talk=talk,y1=y1,y2=y2,title=title,conf=conf,venue=venue))\n",
    "\n",
    "    json_name = '_'.join(item.split(' ')[1:]).lower().replace('/','_')+'.json'\n",
    "    print(json_name)\n",
    "    with open(os.path.join('../data',json_name),'w') as fp:\n",
    "        json.dump(items,fp,indent=4, separators=(\",\", \": \"))"
   ]
  },
  {
   "cell_type": "code",
   "execution_count": null,
   "id": "15d84f17",
   "metadata": {},
   "outputs": [],
   "source": []
  },
  {
   "cell_type": "code",
   "execution_count": null,
   "id": "c9681f44",
   "metadata": {},
   "outputs": [],
   "source": []
  }
 ],
 "metadata": {
  "kernelspec": {
   "display_name": "Python 3 (ipykernel)",
   "language": "python",
   "name": "python3"
  },
  "language_info": {
   "codemirror_mode": {
    "name": "ipython",
    "version": 3
   },
   "file_extension": ".py",
   "mimetype": "text/x-python",
   "name": "python",
   "nbconvert_exporter": "python",
   "pygments_lexer": "ipython3",
   "version": "3.9.7"
  }
 },
 "nbformat": 4,
 "nbformat_minor": 5
}
